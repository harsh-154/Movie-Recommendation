{
  "cells": [
    {
      "cell_type": "markdown",
      "metadata": {
        "id": "view-in-github",
        "colab_type": "text"
      },
      "source": [
        "<a href=\"https://colab.research.google.com/github/harsh-154/Movie-Recommendation/blob/main/MovieRecommendationCinematch.ipynb\" target=\"_parent\"><img src=\"https://colab.research.google.com/assets/colab-badge.svg\" alt=\"Open In Colab\"/></a>"
      ]
    },
    {
      "cell_type": "code",
      "execution_count": null,
      "metadata": {
        "id": "u45zboyFvzAl"
      },
      "outputs": [],
      "source": [
        "from google.colab import drive\n",
        "drive.mount('/content/drive')"
      ]
    },
    {
      "cell_type": "code",
      "execution_count": null,
      "metadata": {
        "id": "Tzy9wqf6vjNd"
      },
      "outputs": [],
      "source": [
        "import pandas as pd\n",
        "moviesPath=\"/content/drive/MyDrive/ml-25m/movies.csv\"\n",
        "movies = pd.read_csv(moviesPath)"
      ]
    },
    {
      "cell_type": "code",
      "execution_count": null,
      "metadata": {
        "id": "hA2T1ulAwZpe"
      },
      "outputs": [],
      "source": [
        "movies.head()"
      ]
    },
    {
      "cell_type": "code",
      "execution_count": null,
      "metadata": {
        "id": "HTwLiEfnwbrT"
      },
      "outputs": [],
      "source": [
        "import re\n",
        "\n",
        "def clean_title(title):\n",
        "    title = re.sub(\"[^a-zA-Z0-9 ]\", \"\", title)\n",
        "    return title"
      ]
    },
    {
      "cell_type": "code",
      "execution_count": null,
      "metadata": {
        "id": "KDRBQHVXwdXT"
      },
      "outputs": [],
      "source": [
        "movies[\"clean_title\"] = movies[\"title\"].apply(clean_title)\n"
      ]
    },
    {
      "cell_type": "code",
      "execution_count": null,
      "metadata": {
        "id": "LnIokwQTwfh1"
      },
      "outputs": [],
      "source": [
        "movies"
      ]
    },
    {
      "cell_type": "code",
      "execution_count": null,
      "metadata": {
        "id": "4bxtlZy0wiK7"
      },
      "outputs": [],
      "source": [
        "from sklearn.feature_extraction.text import TfidfVectorizer\n",
        "vectorizer = TfidfVectorizer(ngram_range=(1,2))\n",
        "\n",
        "tfidf = vectorizer.fit_transform(movies[\"clean_title\"])"
      ]
    },
    {
      "cell_type": "code",
      "execution_count": null,
      "metadata": {
        "id": "hmeQNz_mwkT8"
      },
      "outputs": [],
      "source": [
        "from sklearn.metrics.pairwise import cosine_similarity\n",
        "import numpy as np\n",
        "\n",
        "def search(title):\n",
        "    title = clean_title(title)\n",
        "    query_vec = vectorizer.transform([title])\n",
        "    similarity = cosine_similarity(query_vec, tfidf).flatten()\n",
        "    indices = np.argpartition(similarity, -5)[-5:]\n",
        "    results = movies.iloc[indices].iloc[::-1]\n",
        "\n",
        "    return results"
      ]
    },
    {
      "cell_type": "code",
      "execution_count": null,
      "metadata": {
        "id": "CgLvoSPwwmAm"
      },
      "outputs": [],
      "source": []
    },
    {
      "cell_type": "code",
      "execution_count": null,
      "metadata": {
        "id": "07H16iA0wopz"
      },
      "outputs": [],
      "source": [
        "import ipywidgets as widgets\n",
        "from IPython.display import display\n",
        "\n",
        "movie_input = widgets.Text(\n",
        "    value='Toy Story',\n",
        "    description='Movie Title:',\n",
        "    disabled=False\n",
        ")\n",
        "movie_list = widgets.Output()\n",
        "\n",
        "def on_type(data):\n",
        "    with movie_list:\n",
        "        movie_list.clear_output()\n",
        "        title = data[\"new\"]\n",
        "        if len(title) > 5:\n",
        "            display(search(title))\n",
        "\n",
        "movie_input.observe(on_type, names='value')\n",
        "\n",
        "\n",
        "display(movie_input, movie_list)"
      ]
    },
    {
      "cell_type": "code",
      "execution_count": null,
      "metadata": {
        "id": "gtg4zL2FwqxP"
      },
      "outputs": [],
      "source": [
        "movie_id = 89745\n",
        "\n",
        "#def find_similar_movies(movie_id):\n",
        "movie = movies[movies[\"movieId\"] == movie_id]"
      ]
    },
    {
      "cell_type": "code",
      "execution_count": null,
      "metadata": {
        "id": "SdQHhTP7wtzL"
      },
      "outputs": [],
      "source": [
        "ratingsPath=\"/content/drive/MyDrive/ml-25m/ratings.csv\"\n",
        "ratings = pd.read_csv(ratingsPath)"
      ]
    },
    {
      "cell_type": "code",
      "execution_count": null,
      "metadata": {
        "id": "aZRnK0CRwvJ-"
      },
      "outputs": [],
      "source": [
        "ratings.dtypes"
      ]
    },
    {
      "cell_type": "code",
      "execution_count": null,
      "metadata": {
        "id": "vTgH-FDt9eBx"
      },
      "outputs": [],
      "source": [
        "# import pandas as pd\n",
        "from sklearn.neighbors import NearestNeighbors\n",
        "import numpy as np\n",
        "\n",
        "# Step 1: Filter the ratings dataset (USE THIS, not original `ratings`)\n",
        "active_users = ratings['userId'].value_counts()\n",
        "active_users = active_users[active_users > 200].index\n",
        "\n",
        "popular_movies = ratings['movieId'].value_counts()\n",
        "popular_movies = popular_movies[popular_movies > 500].index\n",
        "\n",
        "filtered_ratings = ratings[ratings['userId'].isin(active_users) & ratings['movieId'].isin(popular_movies)]\n",
        "\n",
        "# Step 2: Build a manageable pivot table\n",
        "user_movie_matrix = filtered_ratings.pivot_table(index='userId', columns='movieId', values='rating').fillna(0)\n",
        "print(f\"Matrix shape: {user_movie_matrix.shape}\")\n"
      ]
    },
    {
      "cell_type": "code",
      "execution_count": null,
      "metadata": {
        "id": "y_BwckIy7uv3"
      },
      "outputs": [],
      "source": [
        "from sklearn.neighbors import NearestNeighbors\n",
        "\n",
        "# Use sparse matrix if still large (optional)\n",
        "from scipy.sparse import csr_matrix\n",
        "user_movie_sparse = csr_matrix(user_movie_matrix.values)\n",
        "\n",
        "# Fit KNN\n",
        "knn = NearestNeighbors(metric='cosine', algorithm='brute')\n",
        "knn.fit(user_movie_sparse)\n",
        "\n",
        "# Choose a user\n",
        "target_user_index = 0  # first user\n",
        "target_user_id = user_movie_matrix.index[target_user_index]\n",
        "\n",
        "# Find similar users\n",
        "distances, indices = knn.kneighbors([user_movie_matrix.iloc[target_user_index]], n_neighbors=6)\n",
        "\n",
        "similar_users = user_movie_matrix.index[indices.flatten()[1:]]\n",
        "\n",
        "# Recommend based on similar users\n",
        "similar_users_ratings = filtered_ratings[filtered_ratings['userId'].isin(similar_users)]\n",
        "rated_by_target = filtered_ratings[filtered_ratings['userId'] == target_user_id]['movieId'].tolist()\n",
        "\n",
        "unseen_movies = similar_users_ratings[~similar_users_ratings['movieId'].isin(rated_by_target)]\n",
        "\n",
        "recommendations = (unseen_movies.groupby('movieId')['rating']\n",
        "                   .mean()\n",
        "                   .sort_values(ascending=False)\n",
        "                   .head(10)\n",
        "                   .reset_index()\n",
        "                   .merge(movies, on='movieId')[['title', 'rating']])\n",
        "\n",
        "print(\"Top 10 movie recommendations:\")\n",
        "print(recommendations)\n"
      ]
    },
    {
      "cell_type": "code",
      "execution_count": null,
      "metadata": {
        "id": "y8VYISmywvkp"
      },
      "outputs": [],
      "source": [
        "similar_users = ratings[(ratings[\"movieId\"] == movie_id) & (ratings[\"rating\"] > 4)][\"userId\"].unique()"
      ]
    },
    {
      "cell_type": "code",
      "execution_count": null,
      "metadata": {
        "id": "FNWqXqGkwxTE"
      },
      "outputs": [],
      "source": [
        "similar_user_recs = ratings[(ratings[\"userId\"].isin(similar_users)) & (ratings[\"rating\"] > 4)][\"movieId\"]"
      ]
    },
    {
      "cell_type": "code",
      "execution_count": null,
      "metadata": {
        "id": "Y60dbtbawyxu"
      },
      "outputs": [],
      "source": [
        "similar_user_recs = similar_user_recs.value_counts() / len(similar_users)\n",
        "\n",
        "similar_user_recs = similar_user_recs[similar_user_recs > .10]"
      ]
    },
    {
      "cell_type": "code",
      "execution_count": null,
      "metadata": {
        "id": "5unUclSqw0e6"
      },
      "outputs": [],
      "source": [
        "all_users = ratings[(ratings[\"movieId\"].isin(similar_user_recs.index)) & (ratings[\"rating\"] > 4)]"
      ]
    },
    {
      "cell_type": "code",
      "execution_count": null,
      "metadata": {
        "id": "e6U6EFHnw2IK"
      },
      "outputs": [],
      "source": [
        "all_user_recs = all_users[\"movieId\"].value_counts() / len(all_users[\"userId\"].unique())"
      ]
    },
    {
      "cell_type": "code",
      "execution_count": null,
      "metadata": {
        "id": "KVTqICzWw4Gf"
      },
      "outputs": [],
      "source": [
        "rec_percentages = pd.concat([similar_user_recs, all_user_recs], axis=1)\n",
        "rec_percentages.columns = [\"similar\", \"all\"]"
      ]
    },
    {
      "cell_type": "code",
      "execution_count": null,
      "metadata": {
        "id": "wwEFv2BIw6V-"
      },
      "outputs": [],
      "source": [
        "rec_percentages"
      ]
    },
    {
      "cell_type": "code",
      "execution_count": null,
      "metadata": {
        "id": "DCi4w_j1w7n9"
      },
      "outputs": [],
      "source": [
        "rec_percentages[\"score\"] = rec_percentages[\"similar\"] / rec_percentages[\"all\"]"
      ]
    },
    {
      "cell_type": "code",
      "execution_count": null,
      "metadata": {
        "id": "FvvyNvXgw_Jr"
      },
      "outputs": [],
      "source": [
        "rec_percentages = rec_percentages.sort_values(\"score\", ascending=False)"
      ]
    },
    {
      "cell_type": "code",
      "execution_count": null,
      "metadata": {
        "id": "U7fE5rPdxAyl"
      },
      "outputs": [],
      "source": [
        "rec_percentages.head(10).merge(movies, left_index=True, right_on=\"movieId\")"
      ]
    },
    {
      "cell_type": "code",
      "execution_count": null,
      "metadata": {
        "id": "X0bx2CTXxCWJ"
      },
      "outputs": [],
      "source": [
        "def find_similar_movies(movie_id):\n",
        "    similar_users = ratings[(ratings[\"movieId\"] == movie_id) & (ratings[\"rating\"] > 4)][\"userId\"].unique()\n",
        "    similar_user_recs = ratings[(ratings[\"userId\"].isin(similar_users)) & (ratings[\"rating\"] > 4)][\"movieId\"]\n",
        "    similar_user_recs = similar_user_recs.value_counts() / len(similar_users)\n",
        "\n",
        "    similar_user_recs = similar_user_recs[similar_user_recs > .10]\n",
        "    all_users = ratings[(ratings[\"movieId\"].isin(similar_user_recs.index)) & (ratings[\"rating\"] > 4)]\n",
        "    all_user_recs = all_users[\"movieId\"].value_counts() / len(all_users[\"userId\"].unique())\n",
        "    rec_percentages = pd.concat([similar_user_recs, all_user_recs], axis=1)\n",
        "    rec_percentages.columns = [\"similar\", \"all\"]\n",
        "\n",
        "    rec_percentages[\"score\"] = rec_percentages[\"similar\"] / rec_percentages[\"all\"]\n",
        "    rec_percentages = rec_percentages.sort_values(\"score\", ascending=False)\n",
        "    return rec_percentages.head(10).merge(movies, left_index=True, right_on=\"movieId\")[[\"score\", \"title\", \"genres\"]]"
      ]
    },
    {
      "cell_type": "code",
      "execution_count": null,
      "metadata": {
        "id": "fDV869yyxEQr"
      },
      "outputs": [],
      "source": [
        "import ipywidgets as widgets\n",
        "from IPython.display import display\n",
        "\n",
        "movie_name_input = widgets.Text(\n",
        "    value='Toy Story',\n",
        "    description='Movie Title:',\n",
        "    disabled=False\n",
        ")\n",
        "recommendation_list = widgets.Output()\n",
        "\n",
        "def on_type(data):\n",
        "    with recommendation_list:\n",
        "        recommendation_list.clear_output()\n",
        "        title = data[\"new\"]\n",
        "        if len(title) > 5:\n",
        "            results = search(title)\n",
        "            movie_id = results.iloc[0][\"movieId\"]\n",
        "            display(find_similar_movies(movie_id))\n",
        "\n",
        "movie_name_input.observe(on_type, names='value')\n",
        "\n",
        "display(movie_name_input, recommendation_list)"
      ]
    },
    {
      "cell_type": "code",
      "execution_count": null,
      "metadata": {
        "id": "aJrLuSOd5uti"
      },
      "outputs": [],
      "source": []
    },
    {
      "cell_type": "code",
      "execution_count": null,
      "metadata": {
        "id": "GT34zJ4W1TEl"
      },
      "outputs": [],
      "source": []
    },
    {
      "cell_type": "code",
      "execution_count": null,
      "metadata": {
        "id": "OE33emNM3Wen"
      },
      "outputs": [],
      "source": []
    }
  ],
  "metadata": {
    "accelerator": "GPU",
    "colab": {
      "gpuType": "T4",
      "provenance": [],
      "include_colab_link": true
    },
    "kernelspec": {
      "display_name": "Python 3",
      "name": "python3"
    },
    "language_info": {
      "name": "python"
    }
  },
  "nbformat": 4,
  "nbformat_minor": 0
}